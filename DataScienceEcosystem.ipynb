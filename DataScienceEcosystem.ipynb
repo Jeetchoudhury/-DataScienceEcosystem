{
 "cells": [
  {
   "cell_type": "markdown",
   "id": "7e7ae3c5-9579-4e11-84bb-2ddb75a93506",
   "metadata": {},
   "source": [
    "# Data Science Tools and Ecosystem"
   ]
  },
  {
   "cell_type": "markdown",
   "id": "b074ba88-0acd-429c-a534-ff89d97bac6c",
   "metadata": {},
   "source": [
    "**Objectives:**\n",
    "- Some of the popular languages that Data Scientists use\n",
    "- Some of the commonly used Python libraries used by Data Scientists\n",
    "- Data Science Tools\n",
    "- few examples of evaluating arithmetic expressions in Python"
   ]
  },
  {
   "cell_type": "markdown",
   "id": "8c4a4324-2bef-4438-9e60-38a4f791098b",
   "metadata": {},
   "source": [
    "In this notebook, Data Science Tools and Ecosystem are summarized.Jupyter Notebooks originated as “iPython,” originally developed for Python programming. Later, when it started supporting additional languages, it was renamed Jupyter, which stands for Julia, Python, and R. However, now, it supports many other languages. A Jupyter Notebook is a browser-based application that allows you to create and share documents containing code, equations, visualizations, narrative text links, and more. It is like a scientist’s lab notebook, where a scientist records all steps to perform their experiments and the results they can reproduce. In the same way, a Jupyter Notebook allows a Data Scientist to record their data experiments and results that others can reuse. Now a Jupyter Notebook file allows you to combine descriptive text, code blocks, and code output in a single file. When you run the code, it generates the output, including plots and tables, within the notebook file. And you can then export the notebook to a PDF or HTML file format that can then be shared with anyone. Next, let’s learn about Jupyter Lab. Jupyter Lab is a browser-based application that allows you to access multiple Jupyter Notebook files, other code, and data files. In addition, it extends the functionalities of Jupyter Notebooks by enabling you to work with multiple notebooks, text editors, terminals, and custom components in a flexible, integrated, and extensible manner. It is compatible with several file formats like CSV, JSON, PDF, Vega, and so on. And it is also an open source. Jupyter Notebooks can be used with cloud-based services like IBM and Google Colab. They don't require any installation on your local machine. They give you access to the Jupyter Notebook environment and allow you to import and export notebooks using the standard IPython Notebook file format. Also, these services support the Python language and other languages as well. Jupyter Notebooks can be installed via the command line using the pip install function. It can also be downloaded locally on your laptop through the Anaconda Platform from Anaconda dot com. Anaconda is one of the popular distributions which includes Jupyter and Jupyterlab. So, for this course, you have access to a hosted version of JupyterLab in Skills Network Labs, so you do not require any installations on your own device to complete the hands-on labs. As shown here, you will see a screen that will launch the Jupyter Lab in the virtual environment. Simply click the Open tool tab. In this video, you learned that Jupyter Notebooks are used in Data Science for recording experiments and projects. Jupyter Lab is compatible with many files and Data Science languages. And there are different ways to install and use Jupyter Notebooks."
   ]
  },
  {
   "cell_type": "markdown",
   "id": "da2c5b9c-dcd1-471e-8b4f-2e87dfa2f37b",
   "metadata": {},
   "source": [
    "In the realm of data science, where every bite of information holds the potential for ground-breaking insights, the choice of programming language becomes a compass guiding professionals through the field of data analytics.\n",
    "## Some of the popular languages that Data Scientists use are:\n",
    "1. Python\n",
    "2. R\n",
    "3. JAVA\n",
    "4. SQL\n",
    "5. Julia"
   ]
  },
  {
   "cell_type": "markdown",
   "id": "1a4a20f4-ebed-4495-b927-54eb65fee977",
   "metadata": {},
   "source": [
    "## Some of the commonly used Python libraries used by Data Scientists include:\n",
    "1.  NumPy\n",
    "2.  Pandas\n",
    "3.  SciPy\n",
    "4.  Scikit-learn\n",
    "5.  Matplotlib\n",
    "6.  Seaborn\n",
    "7.  TensorFlow\n",
    "8.  PyTorch\n",
    "9.  Keras\n",
    "10. NLTK\n"
   ]
  },
  {
   "cell_type": "markdown",
   "id": "ff6599cf-f274-421c-8912-14cf4f4f1682",
   "metadata": {},
   "source": [
    "|*Data Science Tools*|\n",
    "|:-----------------:|\n",
    "|Jupyter Notebook|\n",
    "|Apache Spark|\n",
    "|Pytorch| \n",
    "|MLFlow|\n"
   ]
  },
  {
   "cell_type": "markdown",
   "id": "a53c7cfc-c5c7-47d2-b214-21b6ee95a398",
   "metadata": {},
   "source": [
    "### Below are a few examples of evaluating arithmetic expressions in Python"
   ]
  },
  {
   "cell_type": "code",
   "execution_count": 13,
   "id": "ea6caca0-69e4-473b-97e1-f9f39400d66e",
   "metadata": {},
   "outputs": [
    {
     "data": {
      "text/plain": [
       "17"
      ]
     },
     "execution_count": 13,
     "metadata": {},
     "output_type": "execute_result"
    }
   ],
   "source": [
    "#This a simple arithmetic expression to mutiply then add integers.\n",
    "(3*4)+5\n"
   ]
  },
  {
   "cell_type": "code",
   "execution_count": 15,
   "id": "7c4cd30a-df30-413d-89a6-3a7aa4ce61cc",
   "metadata": {},
   "outputs": [
    {
     "data": {
      "text/plain": [
       "3.3333333333333335"
      ]
     },
     "execution_count": 15,
     "metadata": {},
     "output_type": "execute_result"
    }
   ],
   "source": [
    "#This will convert 200 minutes to hours by diving by 60.\n",
    "(200/60)"
   ]
  },
  {
   "cell_type": "markdown",
   "id": "5d18701f-a5d3-461a-8ad4-1b28140c8ce8",
   "metadata": {},
   "source": [
    "## Author\n",
    "Santosh lal choudhury"
   ]
  },
  {
   "cell_type": "code",
   "execution_count": null,
   "id": "47aa5310-01fb-4e9e-821d-4e61c4dc1263",
   "metadata": {},
   "outputs": [],
   "source": []
  }
 ],
 "metadata": {
  "kernelspec": {
   "display_name": "Python [conda env:base] *",
   "language": "python",
   "name": "conda-base-py"
  },
  "language_info": {
   "codemirror_mode": {
    "name": "ipython",
    "version": 3
   },
   "file_extension": ".py",
   "mimetype": "text/x-python",
   "name": "python",
   "nbconvert_exporter": "python",
   "pygments_lexer": "ipython3",
   "version": "3.12.7"
  }
 },
 "nbformat": 4,
 "nbformat_minor": 5
}
